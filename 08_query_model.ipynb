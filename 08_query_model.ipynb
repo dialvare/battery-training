{
 "cells": [
  {
   "cell_type": "markdown",
   "id": "4b0f6b98-b820-4558-9019-fe7c28026987",
   "metadata": {},
   "source": [
    "# Querying models"
   ]
  },
  {
   "cell_type": "code",
   "execution_count": 271,
   "id": "87525dcb-df07-41c4-9043-5b187bd933a3",
   "metadata": {},
   "outputs": [],
   "source": [
    "import requests\n",
    "import json\n",
    "import subprocess"
   ]
  },
  {
   "cell_type": "code",
   "execution_count": 272,
   "id": "257b2c7d-9024-4cd7-b438-4e4b191e9dff",
   "metadata": {},
   "outputs": [],
   "source": [
    "url = f'https://edge-ai-edge-project.apps.sno.pemlab.rdu2.redhat.com/v2/models/time_to_failure/infer'\n",
    "#url = f'https://edge-predictor.ai-edge-project.svc.cluster.local:8443/v2/models/edge/infer'\n",
    "\n",
    "#url = f'https://stress-detection-ai-edge-project.apps.sno.pemlab.rdu2.redhat.com/v2/models/stress_detection/infer'\n",
    "#url = f'https://stress-detection-predictor.ai-edge-project.svc.cluster.local:8443/v2/models/stress_detection/infer'"
   ]
  },
  {
   "cell_type": "code",
   "execution_count": 273,
   "id": "deb7169d-e562-4966-b6ba-26cd043eba67",
   "metadata": {},
   "outputs": [],
   "source": [
    "token = subprocess.check_output([\"oc\", \"whoami\", \"-t\"], text=True).strip()"
   ]
  },
  {
   "cell_type": "code",
   "execution_count": 274,
   "id": "ba174c58-3e16-427b-9dcc-97c72db8ce03",
   "metadata": {},
   "outputs": [],
   "source": [
    "headers = {\n",
    "    \"Authorization\": f\"Bearer {token}\",\n",
    "    \"Content-Type\": \"application/json\"\n",
    "}"
   ]
  },
  {
   "cell_type": "code",
   "execution_count": 275,
   "id": "773220d8-b6b9-41e9-8d1f-26b7f888bb65",
   "metadata": {},
   "outputs": [],
   "source": [
    "payload = {\n",
    "    \"inputs\": [\n",
    "        {\n",
    "            \"name\": \"inputs\",\n",
    "            \"shape\": [1, 5], \n",
    "            \"datatype\": \"FP32\",\n",
    "            \"data\": [[45.0, 500.0, 370.0, 0.4, 98.0]]\n",
    "        }\n",
    "    ]\n",
    "}"
   ]
  },
  {
   "cell_type": "code",
   "execution_count": 276,
   "id": "590339c1-de21-43da-b16e-562548ba8f8c",
   "metadata": {},
   "outputs": [],
   "source": [
    "response = requests.post(url, headers=headers, json=payload, verify=True)"
   ]
  },
  {
   "cell_type": "code",
   "execution_count": 277,
   "id": "80b445a8-381d-412a-bb00-9add2ca7ab9e",
   "metadata": {},
   "outputs": [],
   "source": [
    "def process_response(response):\n",
    "    if response.status_code == 200:\n",
    "        result = response.json()\n",
    "        output_value = result[\"outputs\"][0][\"data\"][0]  \n",
    "        print(f\"Predicted Time Before Failure: {output_value:.2f} hours\")\n",
    "    else:\n",
    "        print(f\"Error: {response.status_code}, {response.text}\")"
   ]
  },
  {
   "cell_type": "code",
   "execution_count": 278,
   "id": "8782e731-6ab6-46fa-8490-4f643ac492bd",
   "metadata": {},
   "outputs": [
    {
     "name": "stdout",
     "output_type": "stream",
     "text": [
      "Error: 404, {\"error\": \"Mediapipe graph definition with requested name is not found\"}\n"
     ]
    }
   ],
   "source": [
    "process_response(response)"
   ]
  }
 ],
 "metadata": {
  "kernelspec": {
   "display_name": "Python 3.11",
   "language": "python",
   "name": "python3"
  },
  "language_info": {
   "codemirror_mode": {
    "name": "ipython",
    "version": 3
   },
   "file_extension": ".py",
   "mimetype": "text/x-python",
   "name": "python",
   "nbconvert_exporter": "python",
   "pygments_lexer": "ipython3",
   "version": "3.11.9"
  }
 },
 "nbformat": 4,
 "nbformat_minor": 5
}
