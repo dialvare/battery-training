{
 "cells": [
  {
   "cell_type": "code",
   "execution_count": null,
   "id": "c365670f-1cd3-442e-87df-3ddc89eac028",
   "metadata": {},
   "outputs": [],
   "source": [
    "import pandas as pd\n",
    "import numpy as np\n",
    "from sklearn.model_selection import train_test_split\n",
    "from sklearn.ensemble import RandomForestClassifier\n",
    "from sklearn.metrics import accuracy_score, classification_report\n",
    "from skl2onnx import convert_sklearn\n",
    "from skl2onnx.common.data_types import FloatTensorType\n",
    "from sklearn.neural_network import MLPClassifier\n",
    "from sklearn.inspection import permutation_importance\n",
    "from sklearn.preprocessing import StandardScaler\n",
    "import os\n",
    "os.environ[\"CUDA_VISIBLE_DEVICES\"] = \"-1\"\n",
    "import tensorflow as tf\n",
    "from tensorflow import keras"
   ]
  },
  {
   "cell_type": "code",
   "execution_count": 7,
   "id": "1f9b0f74-9aa3-459d-8c80-d07eadfd8033",
   "metadata": {},
   "outputs": [
    {
     "name": "stdout",
     "output_type": "stream",
     "text": [
      "                            timestamp  batteryId  ambientTemp  batteryCurrent  \\\n",
      "0    2025-02-12 14:26:34.190000+00:00          1        18.65           78.06   \n",
      "1    2025-02-12 14:26:37.025000+00:00          1        18.36           81.42   \n",
      "2    2025-02-12 14:26:40.020000+00:00          1        18.17           75.76   \n",
      "3    2025-02-12 14:26:43.024000+00:00          1        18.50           72.11   \n",
      "4    2025-02-12 14:26:46.023000+00:00          1        18.12           73.72   \n",
      "..                                ...        ...          ...             ...   \n",
      "501  2025-02-12 14:51:53.470000+00:00          1        19.29           55.85   \n",
      "502  2025-02-12 14:51:56.469000+00:00          1        19.43           64.87   \n",
      "503  2025-02-12 14:51:59.469000+00:00          1        19.73           55.13   \n",
      "504  2025-02-12 14:52:02.469000+00:00          1        19.86           44.47   \n",
      "505  2025-02-12 14:52:05.475000+00:00          1        20.05           42.55   \n",
      "\n",
      "     batteryTemp  batteryVoltage  distance     kmh  stateOfCharge  \\\n",
      "0          25.22          396.39      0.20  127.75         0.9991   \n",
      "1          25.33          396.23      0.31  130.46         0.9986   \n",
      "2          25.39          396.49      0.42  125.59         0.9981   \n",
      "3          25.44          396.66      0.52  122.42         0.9977   \n",
      "4          25.47          396.58      0.62  123.87         0.9972   \n",
      "..           ...             ...       ...     ...            ...   \n",
      "501        25.45          397.41      1.38  108.40         0.9941   \n",
      "502        25.45          396.99      1.48  116.17         0.9937   \n",
      "503        25.43          397.44      1.57  107.77         0.9934   \n",
      "504        25.39          397.94      1.65   98.91         0.9931   \n",
      "505        25.36          398.02      1.73   96.44         0.9928   \n",
      "\n",
      "     stateOfHealth  \n",
      "0          99.9998  \n",
      "1          99.9997  \n",
      "2          99.9996  \n",
      "3          99.9995  \n",
      "4          99.9994  \n",
      "..             ...  \n",
      "501        99.9986  \n",
      "502        99.9985  \n",
      "503        99.9984  \n",
      "504        99.9983  \n",
      "505        99.9982  \n",
      "\n",
      "[506 rows x 10 columns]\n"
     ]
    }
   ],
   "source": [
    "# Simulated battery data\n",
    "'''\n",
    "data = [\n",
    "    {\"batteryId\": 1, \"stateOfCharge\": 0.4384, \"stateOfHealth\": 98.00, \"batteryCurrent\": 349.57, \"batteryVoltage\": 397.63,\n",
    "     \"kmh\": 234.00, \"distance\": 79.35, \"batteryTemp\": 0.00, \"ambientTemp\": 20.40},\n",
    "    {\"batteryId\": 2, \"stateOfCharge\": 0.1234, \"stateOfHealth\": 95.00, \"batteryCurrent\": 500.00, \"batteryVoltage\": 350.00,\n",
    "     \"kmh\": 200.00, \"distance\": 100.50, \"batteryTemp\": 60.00, \"ambientTemp\": 25.40},\n",
    "    {\"batteryId\": 3, \"stateOfCharge\": 0.7684, \"stateOfHealth\": 99.00, \"batteryCurrent\": 200.00, \"batteryVoltage\": 400.00,\n",
    "     \"kmh\": 180.00, \"distance\": 120.00, \"batteryTemp\": 30.00, \"ambientTemp\": 20.00},\n",
    "]\n",
    "'''\n",
    "\n",
    "# Read the data from file\n",
    "df = pd.read_csv(\"./data/battery_data.csv\")\n",
    "\n",
    "print(df)"
   ]
  },
  {
   "cell_type": "code",
   "execution_count": 8,
   "id": "e01742ed-852e-4399-ab26-3205b33bf491",
   "metadata": {},
   "outputs": [
    {
     "name": "stdout",
     "output_type": "stream",
     "text": [
      "                            timestamp  batteryId  ambientTemp  batteryCurrent  \\\n",
      "0    2025-02-12 14:26:34.190000+00:00          1        18.65           78.06   \n",
      "1    2025-02-12 14:26:37.025000+00:00          1        18.36           81.42   \n",
      "2    2025-02-12 14:26:40.020000+00:00          1        18.17           75.76   \n",
      "3    2025-02-12 14:26:43.024000+00:00          1        18.50           72.11   \n",
      "4    2025-02-12 14:26:46.023000+00:00          1        18.12           73.72   \n",
      "..                                ...        ...          ...             ...   \n",
      "501  2025-02-12 14:51:53.470000+00:00          1        19.29           55.85   \n",
      "502  2025-02-12 14:51:56.469000+00:00          1        19.43           64.87   \n",
      "503  2025-02-12 14:51:59.469000+00:00          1        19.73           55.13   \n",
      "504  2025-02-12 14:52:02.469000+00:00          1        19.86           44.47   \n",
      "505  2025-02-12 14:52:05.475000+00:00          1        20.05           42.55   \n",
      "\n",
      "     batteryTemp  batteryVoltage  distance     kmh  stateOfCharge  \\\n",
      "0          25.22          396.39      0.20  127.75         0.9991   \n",
      "1          25.33          396.23      0.31  130.46         0.9986   \n",
      "2          25.39          396.49      0.42  125.59         0.9981   \n",
      "3          25.44          396.66      0.52  122.42         0.9977   \n",
      "4          25.47          396.58      0.62  123.87         0.9972   \n",
      "..           ...             ...       ...     ...            ...   \n",
      "501        25.45          397.41      1.38  108.40         0.9941   \n",
      "502        25.45          396.99      1.48  116.17         0.9937   \n",
      "503        25.43          397.44      1.57  107.77         0.9934   \n",
      "504        25.39          397.94      1.65   98.91         0.9931   \n",
      "505        25.36          398.02      1.73   96.44         0.9928   \n",
      "\n",
      "     stateOfHealth  stressIndicator  \n",
      "0          99.9998                0  \n",
      "1          99.9997                0  \n",
      "2          99.9996                0  \n",
      "3          99.9995                0  \n",
      "4          99.9994                0  \n",
      "..             ...              ...  \n",
      "501        99.9986                0  \n",
      "502        99.9985                0  \n",
      "503        99.9984                0  \n",
      "504        99.9983                0  \n",
      "505        99.9982                0  \n",
      "\n",
      "[506 rows x 11 columns]\n"
     ]
    }
   ],
   "source": [
    "# Define stress condition (1 = Stress, 0 = Normal)\n",
    "def detect_stress(row):\n",
    "    if row[\"batteryCurrent\"] > 400 or row[\"batteryTemp\"] > 50 or row[\"stateOfCharge\"] < 0.05 or row[\"batteryVoltage\"] < 320:\n",
    "        return 1  # Stress condition\n",
    "    return 0  # Normal condition\n",
    "\n",
    "\n",
    "# Apply stress detection\n",
    "df[\"stressIndicator\"] = df.apply(detect_stress, axis=1)\n",
    "\n",
    "print(df)"
   ]
  },
  {
   "cell_type": "code",
   "execution_count": 9,
   "id": "09a4a6ea-de73-4c02-a875-aa4c3fab42a4",
   "metadata": {},
   "outputs": [
    {
     "name": "stdout",
     "output_type": "stream",
     "text": [
      "Total stress events detected: 195\n"
     ]
    }
   ],
   "source": [
    "# Count the number of stress events\n",
    "stress_count = df[\"stressIndicator\"].sum()\n",
    "\n",
    "print(f\"Total stress events detected: {stress_count}\")"
   ]
  },
  {
   "cell_type": "code",
   "execution_count": 10,
   "id": "5a2924f2-d093-4b38-a3f9-84923940c816",
   "metadata": {},
   "outputs": [],
   "source": [
    "# Define Features and Target\n",
    "features = [\"stateOfCharge\", \"stateOfHealth\", \"batteryCurrent\", \"batteryVoltage\", \"kmh\", \"distance\", \"batteryTemp\", \"ambientTemp\"]\n",
    "X = df[features]\n",
    "y = df[\"stressIndicator\"]"
   ]
  },
  {
   "cell_type": "code",
   "execution_count": 11,
   "id": "fe888102-e34c-476f-a81b-781f22c95375",
   "metadata": {},
   "outputs": [],
   "source": [
    "# Split Data\n",
    "X_train, X_test, y_train, y_test = train_test_split(X, y, test_size=0.2, random_state=42)\n",
    "\n",
    "# Normalize data\n",
    "scaler = StandardScaler()\n",
    "X_train_scaled = scaler.fit_transform(X_train)\n",
    "X_test_scaled = scaler.transform(X_test)"
   ]
  },
  {
   "cell_type": "code",
   "execution_count": null,
   "id": "e4f2dc01-f0e5-49ab-bd27-36b21900dc6b",
   "metadata": {},
   "outputs": [],
   "source": [
    "# Define neural network\n",
    "mlp_tf = keras.Sequential([\n",
    "    keras.layers.Input(shape=(X_train.shape[1],)),\n",
    "    keras.layers.Dense(64, activation='relu'),\n",
    "    keras.layers.Dense(32, activation='relu'),\n",
    "    keras.layers.Dense(1, activation='sigmoid')\n",
    "])\n",
    "\n",
    "# Compile model\n",
    "mlp_tf.compile(optimizer='adam', loss='binary_crossentropy', metrics=['accuracy'])"
   ]
  },
  {
   "cell_type": "code",
   "execution_count": 13,
   "id": "f5dbfe85-920e-4a24-9ec0-338dfbb9cfd2",
   "metadata": {},
   "outputs": [
    {
     "name": "stdout",
     "output_type": "stream",
     "text": [
      "Epoch 1/50\n",
      "12/12 - 1s - 120ms/step - accuracy: 0.7328 - loss: 0.5371 - val_accuracy: 0.8293 - val_loss: 0.4818\n",
      "Epoch 2/50\n",
      "12/12 - 0s - 9ms/step - accuracy: 0.9036 - loss: 0.3908 - val_accuracy: 0.9512 - val_loss: 0.3747\n",
      "Epoch 3/50\n",
      "12/12 - 0s - 9ms/step - accuracy: 0.9339 - loss: 0.2964 - val_accuracy: 0.9268 - val_loss: 0.2967\n",
      "Epoch 4/50\n",
      "12/12 - 0s - 9ms/step - accuracy: 0.9532 - loss: 0.2270 - val_accuracy: 0.9268 - val_loss: 0.2442\n",
      "Epoch 5/50\n",
      "12/12 - 0s - 9ms/step - accuracy: 0.9669 - loss: 0.1767 - val_accuracy: 0.9024 - val_loss: 0.2144\n",
      "Epoch 6/50\n",
      "12/12 - 0s - 9ms/step - accuracy: 0.9669 - loss: 0.1412 - val_accuracy: 0.9024 - val_loss: 0.1921\n",
      "Epoch 7/50\n",
      "12/12 - 0s - 10ms/step - accuracy: 0.9669 - loss: 0.1168 - val_accuracy: 0.9268 - val_loss: 0.1768\n",
      "Epoch 8/50\n",
      "12/12 - 0s - 15ms/step - accuracy: 0.9669 - loss: 0.0987 - val_accuracy: 0.9024 - val_loss: 0.1713\n",
      "Epoch 9/50\n",
      "12/12 - 0s - 9ms/step - accuracy: 0.9669 - loss: 0.0866 - val_accuracy: 0.9024 - val_loss: 0.1704\n",
      "Epoch 10/50\n",
      "12/12 - 0s - 9ms/step - accuracy: 0.9669 - loss: 0.0782 - val_accuracy: 0.9024 - val_loss: 0.1679\n",
      "Epoch 11/50\n",
      "12/12 - 0s - 9ms/step - accuracy: 0.9697 - loss: 0.0726 - val_accuracy: 0.9268 - val_loss: 0.1659\n",
      "Epoch 12/50\n",
      "12/12 - 0s - 9ms/step - accuracy: 0.9642 - loss: 0.0687 - val_accuracy: 0.9268 - val_loss: 0.1614\n",
      "Epoch 13/50\n",
      "12/12 - 0s - 9ms/step - accuracy: 0.9697 - loss: 0.0634 - val_accuracy: 0.9268 - val_loss: 0.1614\n",
      "Epoch 14/50\n",
      "12/12 - 0s - 9ms/step - accuracy: 0.9669 - loss: 0.0593 - val_accuracy: 0.9268 - val_loss: 0.1590\n",
      "Epoch 15/50\n",
      "12/12 - 0s - 9ms/step - accuracy: 0.9697 - loss: 0.0569 - val_accuracy: 0.9268 - val_loss: 0.1602\n",
      "Epoch 16/50\n",
      "12/12 - 0s - 9ms/step - accuracy: 0.9697 - loss: 0.0543 - val_accuracy: 0.9268 - val_loss: 0.1588\n",
      "Epoch 17/50\n",
      "12/12 - 0s - 9ms/step - accuracy: 0.9725 - loss: 0.0549 - val_accuracy: 0.9024 - val_loss: 0.1651\n",
      "Epoch 18/50\n",
      "12/12 - 0s - 9ms/step - accuracy: 0.9697 - loss: 0.0494 - val_accuracy: 0.9268 - val_loss: 0.1568\n",
      "Epoch 19/50\n",
      "12/12 - 0s - 9ms/step - accuracy: 0.9807 - loss: 0.0480 - val_accuracy: 0.9512 - val_loss: 0.1550\n",
      "Epoch 20/50\n",
      "12/12 - 0s - 9ms/step - accuracy: 0.9807 - loss: 0.0463 - val_accuracy: 0.9268 - val_loss: 0.1521\n",
      "Epoch 21/50\n",
      "12/12 - 0s - 9ms/step - accuracy: 0.9862 - loss: 0.0447 - val_accuracy: 0.9512 - val_loss: 0.1483\n",
      "Epoch 22/50\n",
      "12/12 - 0s - 9ms/step - accuracy: 0.9725 - loss: 0.0441 - val_accuracy: 0.9268 - val_loss: 0.1486\n",
      "Epoch 23/50\n",
      "12/12 - 0s - 9ms/step - accuracy: 0.9862 - loss: 0.0408 - val_accuracy: 0.9512 - val_loss: 0.1461\n",
      "Epoch 24/50\n",
      "12/12 - 0s - 9ms/step - accuracy: 0.9890 - loss: 0.0407 - val_accuracy: 0.9512 - val_loss: 0.1422\n",
      "Epoch 25/50\n",
      "12/12 - 0s - 9ms/step - accuracy: 0.9862 - loss: 0.0392 - val_accuracy: 0.9512 - val_loss: 0.1409\n",
      "Epoch 26/50\n",
      "12/12 - 0s - 9ms/step - accuracy: 0.9890 - loss: 0.0381 - val_accuracy: 0.9512 - val_loss: 0.1393\n",
      "Epoch 27/50\n",
      "12/12 - 0s - 9ms/step - accuracy: 0.9835 - loss: 0.0374 - val_accuracy: 0.9512 - val_loss: 0.1394\n",
      "Epoch 28/50\n",
      "12/12 - 0s - 9ms/step - accuracy: 0.9890 - loss: 0.0355 - val_accuracy: 0.9512 - val_loss: 0.1378\n",
      "Epoch 29/50\n",
      "12/12 - 0s - 9ms/step - accuracy: 0.9890 - loss: 0.0345 - val_accuracy: 0.9512 - val_loss: 0.1315\n",
      "Epoch 30/50\n",
      "12/12 - 0s - 9ms/step - accuracy: 0.9862 - loss: 0.0337 - val_accuracy: 0.9512 - val_loss: 0.1311\n",
      "Epoch 31/50\n",
      "12/12 - 0s - 9ms/step - accuracy: 0.9890 - loss: 0.0328 - val_accuracy: 0.9512 - val_loss: 0.1299\n",
      "Epoch 32/50\n",
      "12/12 - 0s - 9ms/step - accuracy: 0.9945 - loss: 0.0326 - val_accuracy: 0.9512 - val_loss: 0.1263\n",
      "Epoch 33/50\n",
      "12/12 - 0s - 9ms/step - accuracy: 0.9945 - loss: 0.0311 - val_accuracy: 0.9512 - val_loss: 0.1243\n",
      "Epoch 34/50\n",
      "12/12 - 0s - 9ms/step - accuracy: 0.9890 - loss: 0.0305 - val_accuracy: 0.9512 - val_loss: 0.1238\n",
      "Epoch 35/50\n",
      "12/12 - 0s - 9ms/step - accuracy: 0.9890 - loss: 0.0293 - val_accuracy: 0.9512 - val_loss: 0.1218\n",
      "Epoch 36/50\n",
      "12/12 - 0s - 9ms/step - accuracy: 0.9945 - loss: 0.0284 - val_accuracy: 0.9512 - val_loss: 0.1212\n",
      "Epoch 37/50\n",
      "12/12 - 0s - 9ms/step - accuracy: 0.9972 - loss: 0.0279 - val_accuracy: 0.9512 - val_loss: 0.1210\n",
      "Epoch 38/50\n",
      "12/12 - 0s - 9ms/step - accuracy: 0.9945 - loss: 0.0295 - val_accuracy: 0.9512 - val_loss: 0.1169\n",
      "Epoch 39/50\n",
      "12/12 - 0s - 9ms/step - accuracy: 0.9945 - loss: 0.0275 - val_accuracy: 0.9512 - val_loss: 0.1221\n",
      "Epoch 40/50\n",
      "12/12 - 0s - 9ms/step - accuracy: 0.9945 - loss: 0.0261 - val_accuracy: 0.9512 - val_loss: 0.1134\n",
      "Epoch 41/50\n",
      "12/12 - 0s - 9ms/step - accuracy: 0.9972 - loss: 0.0253 - val_accuracy: 0.9512 - val_loss: 0.1127\n",
      "Epoch 42/50\n",
      "12/12 - 0s - 9ms/step - accuracy: 0.9945 - loss: 0.0257 - val_accuracy: 0.9512 - val_loss: 0.1126\n",
      "Epoch 43/50\n",
      "12/12 - 0s - 9ms/step - accuracy: 0.9972 - loss: 0.0238 - val_accuracy: 0.9512 - val_loss: 0.1116\n",
      "Epoch 44/50\n",
      "12/12 - 0s - 9ms/step - accuracy: 0.9972 - loss: 0.0242 - val_accuracy: 0.9512 - val_loss: 0.1122\n",
      "Epoch 45/50\n",
      "12/12 - 0s - 9ms/step - accuracy: 0.9972 - loss: 0.0231 - val_accuracy: 0.9512 - val_loss: 0.1140\n",
      "Epoch 46/50\n",
      "12/12 - 0s - 9ms/step - accuracy: 0.9972 - loss: 0.0237 - val_accuracy: 0.9512 - val_loss: 0.1129\n",
      "Epoch 47/50\n",
      "12/12 - 0s - 10ms/step - accuracy: 0.9972 - loss: 0.0220 - val_accuracy: 0.9512 - val_loss: 0.1112\n",
      "Epoch 48/50\n",
      "12/12 - 0s - 9ms/step - accuracy: 0.9972 - loss: 0.0217 - val_accuracy: 0.9512 - val_loss: 0.1094\n",
      "Epoch 49/50\n",
      "12/12 - 0s - 9ms/step - accuracy: 0.9972 - loss: 0.0214 - val_accuracy: 0.9512 - val_loss: 0.1114\n",
      "Epoch 50/50\n",
      "12/12 - 0s - 9ms/step - accuracy: 0.9972 - loss: 0.0208 - val_accuracy: 0.9512 - val_loss: 0.1123\n"
     ]
    },
    {
     "data": {
      "text/plain": [
       "<keras.src.callbacks.history.History at 0x7f4d1990a550>"
      ]
     },
     "execution_count": 13,
     "metadata": {},
     "output_type": "execute_result"
    }
   ],
   "source": [
    "# Train model\n",
    "mlp_tf.fit(X_train_scaled, y_train, epochs=50, batch_size=32, validation_split=0.1, verbose=2)"
   ]
  },
  {
   "cell_type": "code",
   "execution_count": 15,
   "id": "6c32eb08-8606-47f0-beaa-bac7f454f889",
   "metadata": {},
   "outputs": [
    {
     "name": "stdout",
     "output_type": "stream",
     "text": [
      "Model saved as TensorFlow format in 'models/battery_stress_model.keras'\n"
     ]
    }
   ],
   "source": [
    "# Save model as keras\n",
    "mlp_tf.save(\"models/battery_stress_model.keras\")\n",
    "print(\"Model saved as TensorFlow format in 'models/battery_stress_model.keras'\")"
   ]
  },
  {
   "cell_type": "code",
   "execution_count": 16,
   "id": "6aed880f-cf70-4e74-8e73-38d0dc1f17a8",
   "metadata": {},
   "outputs": [
    {
     "name": "stdout",
     "output_type": "stream",
     "text": [
      "INFO:tensorflow:Assets written to: models/battery_stress_model/assets\n"
     ]
    },
    {
     "name": "stderr",
     "output_type": "stream",
     "text": [
      "INFO:tensorflow:Assets written to: models/battery_stress_model/assets\n"
     ]
    },
    {
     "name": "stdout",
     "output_type": "stream",
     "text": [
      "Model converted to SavedModel format\n"
     ]
    }
   ],
   "source": [
    "# Load model\n",
    "model = tf.keras.models.load_model(\"models/battery_stress_model.keras\")\n",
    "\n",
    "# Export SavedModel\n",
    "tf.saved_model.save(model, \"models/battery_stress_model\")\n",
    "\n",
    "print(\"Model converted to SavedModel format\")"
   ]
  },
  {
   "cell_type": "code",
   "execution_count": 18,
   "id": "be254bec-6c64-40df-8282-c4790748671a",
   "metadata": {},
   "outputs": [
    {
     "name": "stdout",
     "output_type": "stream",
     "text": [
      "[ INFO ] MO command line tool is considered as the legacy conversion API as of OpenVINO 2023.2 release.\n",
      "In 2025.0 MO command line tool and openvino.tools.mo.convert_model() will be removed. Please use OpenVINO Model Converter (OVC) or openvino.convert_model(). OVC represents a lightweight alternative of MO and provides simplified model conversion API. \n",
      "Find more information about transition from MO to OVC at https://docs.openvino.ai/2023.2/openvino_docs_OV_Converter_UG_prepare_model_convert_model_MO_OVC_transition.html\n",
      "2025-03-04 12:44:36.954730: E external/local_xla/xla/stream_executor/cuda/cuda_fft.cc:477] Unable to register cuFFT factory: Attempting to register factory for plugin cuFFT when one has already been registered\n",
      "WARNING: All log messages before absl::InitializeLog() is called are written to STDERR\n",
      "E0000 00:00:1741092276.980626    8563 cuda_dnn.cc:8310] Unable to register cuDNN factory: Attempting to register factory for plugin cuDNN when one has already been registered\n",
      "E0000 00:00:1741092276.988649    8563 cuda_blas.cc:1418] Unable to register cuBLAS factory: Attempting to register factory for plugin cuBLAS when one has already been registered\n",
      "2025-03-04 12:44:37.015216: I tensorflow/core/platform/cpu_feature_guard.cc:210] This TensorFlow binary is optimized to use available CPU instructions in performance-critical operations.\n",
      "To enable the following instructions: AVX2 AVX512F FMA, in other operations, rebuild TensorFlow with the appropriate compiler flags.\n",
      "[ INFO ] Generated IR will be compressed to FP16. If you get lower accuracy, please consider disabling compression explicitly by adding argument --compress_to_fp16=False.\n",
      "Find more information about compression to FP16 at https://docs.openvino.ai/2023.0/openvino_docs_MO_DG_FP16_Compression.html\n",
      "Check for a new version of Intel(R) Distribution of OpenVINO(TM) toolkit here https://software.intel.com/content/www/us/en/develop/tools/openvino-toolkit/download.html?cid=other&source=prod&campid=ww_2023_bu_IOTG_OpenVINO-2023-1&content=upg_all&medium=organic or on https://github.com/openvinotoolkit/openvino\n",
      "[ SUCCESS ] Generated IR version 11 model.\n",
      "[ SUCCESS ] XML file: /opt/app-root/src/battery-training/models/battery_stress_model/saved_model.xml\n",
      "[ SUCCESS ] BIN file: /opt/app-root/src/battery-training/models/battery_stress_model/saved_model.bin\n"
     ]
    }
   ],
   "source": [
    "!mo --saved_model_dir models/battery_stress_model --output_dir models/battery_stress_model"
   ]
  }
 ],
 "metadata": {
  "kernelspec": {
   "display_name": "Python 3.11",
   "language": "python",
   "name": "python3"
  },
  "language_info": {
   "codemirror_mode": {
    "name": "ipython",
    "version": 3
   },
   "file_extension": ".py",
   "mimetype": "text/x-python",
   "name": "python",
   "nbconvert_exporter": "python",
   "pygments_lexer": "ipython3",
   "version": "3.11.9"
  }
 },
 "nbformat": 4,
 "nbformat_minor": 5
}
