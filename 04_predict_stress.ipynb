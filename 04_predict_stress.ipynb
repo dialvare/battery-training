{
 "cells": [
  {
   "cell_type": "code",
   "execution_count": 3,
   "id": "bf02f42c-75f4-4fb3-b899-950c83e48d67",
   "metadata": {},
   "outputs": [],
   "source": [
    "import joblib\n",
    "import pandas as pd"
   ]
  },
  {
   "cell_type": "code",
   "execution_count": 4,
   "id": "f82edacc-d53a-4d54-89c1-326918ffb1ca",
   "metadata": {},
   "outputs": [],
   "source": [
    "# Load Model\n",
    "model = joblib.load(\"./models/battery_stress_model.pkl\")\n",
    "\n",
    "# New Data\n",
    "new_data = pd.DataFrame([{\n",
    "    \"stateOfCharge\": 0.15,  # Low SoC\n",
    "    \"stateOfHealth\": 97.00,\n",
    "    \"batteryCurrent\": 480.00,  # High current\n",
    "    \"batteryVoltage\": 355.00,  # Low voltage\n",
    "    \"kmh\": 150.00,\n",
    "    \"distance\": 50.00,\n",
    "    \"batteryTemp\": 55.00,  # High temp\n",
    "    \"ambientTemp\": 22.00\n",
    "}])"
   ]
  },
  {
   "cell_type": "code",
   "execution_count": 5,
   "id": "d7212250-a1c1-40e3-beca-ed4c2e80a07a",
   "metadata": {},
   "outputs": [
    {
     "name": "stdout",
     "output_type": "stream",
     "text": [
      "Stress Prediction: STRESSED\n"
     ]
    },
    {
     "name": "stderr",
     "output_type": "stream",
     "text": [
      "[Parallel(n_jobs=1)]: Done  49 tasks      | elapsed:    0.0s\n"
     ]
    }
   ],
   "source": [
    "# Make Prediction\n",
    "prediction = model.predict(new_data)\n",
    "print(\"Stress Prediction:\", \"STRESSED\" if prediction[0] == 1 else \"NORMAL\")"
   ]
  },
  {
   "cell_type": "code",
   "execution_count": null,
   "id": "10c2dc46-63f2-4083-a3e6-c5a4e0643a4f",
   "metadata": {},
   "outputs": [],
   "source": []
  }
 ],
 "metadata": {
  "kernelspec": {
   "display_name": "Python 3 (ipykernel)",
   "language": "python",
   "name": "python3"
  },
  "language_info": {
   "codemirror_mode": {
    "name": "ipython",
    "version": 3
   },
   "file_extension": ".py",
   "mimetype": "text/x-python",
   "name": "python",
   "nbconvert_exporter": "python",
   "pygments_lexer": "ipython3",
   "version": "3.13.1"
  }
 },
 "nbformat": 4,
 "nbformat_minor": 5
}
