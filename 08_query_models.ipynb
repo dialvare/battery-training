{
 "cells": [
  {
   "cell_type": "markdown",
   "id": "4b0f6b98-b820-4558-9019-fe7c28026987",
   "metadata": {},
   "source": [
    "# Querying models"
   ]
  },
  {
   "cell_type": "code",
   "execution_count": 91,
   "id": "87525dcb-df07-41c4-9043-5b187bd933a3",
   "metadata": {},
   "outputs": [],
   "source": [
    "import requests\n",
    "import json\n",
    "import subprocess"
   ]
  },
  {
   "cell_type": "code",
   "execution_count": 132,
   "id": "6d2f159c-8b98-4baf-bab3-0ca0c8a6cfba",
   "metadata": {},
   "outputs": [
    {
     "name": "stdout",
     "output_type": "stream",
     "text": [
      "Stress Prediction: STRESSED\n"
     ]
    }
   ],
   "source": [
    "# Query stress detection model\n",
    "url = \"https://stress-detection-ai-edge-project.apps.sno.pemlab.rdu2.redhat.com/v2/models/stress-detection/infer\"\n",
    "\n",
    "token = subprocess.check_output([\"oc\", \"whoami\", \"-t\"], text=True).strip()\n",
    "headers = {\n",
    "    \"Authorization\": f\"Bearer {token}\",\n",
    "    \"Content-Type\": \"application/json\"\n",
    "}\n",
    "\n",
    "data = {\n",
    "    \"inputs\": [\n",
    "        {\n",
    "            \"name\": \"inputs\",\n",
    "            \"shape\": [1, 8], \n",
    "            \"datatype\": \"FP32\",\n",
    "            \"data\": [[0.15, 97.00, 480.00, 355.00, 150.00, 50.00, 55.00, 22.00]]\n",
    "        }\n",
    "    ]\n",
    "}\n",
    "\n",
    "response = requests.post(url, headers=headers, json=data, verify=True)\n",
    "\n",
    "\n",
    "def process_response(response):\n",
    "    if response.status_code == 200:\n",
    "        result = response.json()[\"outputs\"][0][\"data\"][-1]\n",
    "        print(\"Stress Prediction:\", \"STRESSED\" if result == 1.0 else \"NORMAL\")\n",
    "    else:\n",
    "        print(f\"Error: {response.status_code}, {response.text}\")\n",
    "\n",
    "\n",
    "process_response(response)"
   ]
  },
  {
   "cell_type": "code",
   "execution_count": 141,
   "id": "19cf4fc1-9e49-4fd2-b0e4-07548b91a917",
   "metadata": {},
   "outputs": [
    {
     "name": "stdout",
     "output_type": "stream",
     "text": [
      "Predicted Time Before Failure: 49.61 hours\n"
     ]
    }
   ],
   "source": [
    "# Query time to failure model\n",
    "url = \"https://time-to-failure-ai-edge-project.apps.sno.pemlab.rdu2.redhat.com/v2/models/time-to-failure/infer\"\n",
    "\n",
    "token = subprocess.check_output([\"oc\", \"whoami\", \"-t\"], text=True).strip()\n",
    "headers = {\n",
    "    \"Authorization\": f\"Bearer {token}\",\n",
    "    \"Content-Type\": \"application/json\"\n",
    "}\n",
    "\n",
    "data = {\n",
    "    \"inputs\": [\n",
    "        {\n",
    "            \"name\": \"inputs\",\n",
    "            \"shape\": [1, 5], \n",
    "            \"datatype\": \"FP32\",\n",
    "            \"data\": [[45.0, 500.0, 370.0, 0.4, 98.0]]\n",
    "        }\n",
    "    ]\n",
    "}\n",
    "\n",
    "response = requests.post(url, headers=headers, json=data, verify=True)\n",
    "\n",
    "\n",
    "def process_response(response):\n",
    "    if response.status_code == 200:\n",
    "        result = response.json()\n",
    "        output_value = result[\"outputs\"][0][\"data\"][0]  \n",
    "        print(f\"Predicted Time Before Failure: {output_value:.2f} hours\")\n",
    "    else:\n",
    "        print(f\"Error: {response.status_code}, {response.text}\")\n",
    "\n",
    "\n",
    "process_response(response)"
   ]
  }
 ],
 "metadata": {
  "kernelspec": {
   "display_name": "Python 3.11",
   "language": "python",
   "name": "python3"
  },
  "language_info": {
   "codemirror_mode": {
    "name": "ipython",
    "version": 3
   },
   "file_extension": ".py",
   "mimetype": "text/x-python",
   "name": "python",
   "nbconvert_exporter": "python",
   "pygments_lexer": "ipython3",
   "version": "3.11.9"
  }
 },
 "nbformat": 4,
 "nbformat_minor": 5
}
