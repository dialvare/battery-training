{
 "cells": [
  {
   "cell_type": "code",
   "execution_count": null,
   "id": "7097d84e-5ffe-4270-aaa0-84b6d1f43b8a",
   "metadata": {},
   "outputs": [],
   "source": [
    "import pandas as pd\n",
    "import joblib\n",
    "from sklearn.ensemble import RandomForestRegressor\n",
    "from sklearn.model_selection import train_test_split\n",
    "from sklearn.metrics import mean_absolute_error"
   ]
  },
  {
   "cell_type": "code",
   "execution_count": null,
   "id": "85489a45-d85e-405c-950d-a322cfa41faa",
   "metadata": {},
   "outputs": [],
   "source": [
    "# Load CSV file (exported from InfluxDB)\n",
    "df = pd.read_csv(\"./data/battery_data.csv\")\n",
    "\n",
    "# Convert timestamp to datetime for time-series processing\n",
    "df[\"timestamp\"] = pd.to_datetime(df[\"timestamp\"])\n",
    "\n",
    "# Simulate Time-to-Failure (assuming failure happens at the last recorded timestamp)\n",
    "df[\"timeBeforeFailure\"] = (df[\"timestamp\"].max() - df[\"timestamp\"]).dt.total_seconds() / 3600  # Convert to hours\n",
    "\n",
    "# Display processed data\n",
    "print(df.head())"
   ]
  },
  {
   "cell_type": "code",
   "execution_count": null,
   "id": "df2628f0-d203-4933-b09a-9105b46d9fd1",
   "metadata": {},
   "outputs": [],
   "source": [
    "# Select Features & Target Variable\n",
    "features = [\"batteryTemp\", \"batteryCurrent\", \"batteryVoltage\", \"stateOfCharge\", \"stateOfHealth\"]\n",
    "target = \"timeBeforeFailure\"\n",
    "\n",
    "X = df[features]\n",
    "y = df[target]"
   ]
  },
  {
   "cell_type": "code",
   "execution_count": null,
   "id": "7f2169a5-3337-4078-a1c4-1f6a0d4888bc",
   "metadata": {},
   "outputs": [],
   "source": [
    "# Train-Test Split\n",
    "X_train, X_test, y_train, y_test = train_test_split(X, y, test_size=0.2, random_state=42)\n",
    "\n",
    "# Train the Regression Model\n",
    "model = RandomForestRegressor(n_estimators=100, random_state=42)\n",
    "model.fit(X_train, y_train)"
   ]
  },
  {
   "cell_type": "code",
   "execution_count": null,
   "id": "3f099298-ff9d-4f18-887b-140b467c5563",
   "metadata": {},
   "outputs": [],
   "source": [
    "# Make Predictions\n",
    "y_pred = model.predict(X_test)"
   ]
  },
  {
   "cell_type": "code",
   "execution_count": null,
   "id": "c9cbd817-d46a-4c50-9e01-fae98b75642e",
   "metadata": {},
   "outputs": [],
   "source": [
    "# Evaluate Model\n",
    "mae = mean_absolute_error(y_test, y_pred)\n",
    "print(f\"Model MAE: {mae:.2f} hours before failure\")"
   ]
  },
  {
   "cell_type": "code",
   "execution_count": null,
   "id": "e7bcfe76-1d23-4982-b535-265507ad20af",
   "metadata": {},
   "outputs": [],
   "source": [
    "# Save the trained model\n",
    "joblib.dump(model, \"./models/battery_ttf_model.pkl\")\n",
    "print(\"Model saved as battery_ttf_model.pkl\")"
   ]
  },
  {
   "cell_type": "code",
   "execution_count": null,
   "id": "b403255b-da85-4205-9b83-40a2d4fe6860",
   "metadata": {},
   "outputs": [],
   "source": []
  }
 ],
 "metadata": {
  "kernelspec": {
   "display_name": "Python 3 (ipykernel)",
   "language": "python",
   "name": "python3"
  },
  "language_info": {
   "codemirror_mode": {
    "name": "ipython",
    "version": 3
   },
   "file_extension": ".py",
   "mimetype": "text/x-python",
   "name": "python",
   "nbconvert_exporter": "python",
   "pygments_lexer": "ipython3",
   "version": "3.13.1"
  }
 },
 "nbformat": 4,
 "nbformat_minor": 5
}
