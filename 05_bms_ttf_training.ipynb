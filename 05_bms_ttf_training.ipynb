{
 "cells": [
  {
   "cell_type": "code",
   "execution_count": null,
   "id": "ebf95a5f-43d3-402a-af1d-ef5ab6f4709f",
   "metadata": {},
   "outputs": [],
   "source": [
    "!pip install tensorflow openvino-dev"
   ]
  },
  {
   "cell_type": "code",
   "execution_count": null,
   "id": "5d6676ad-b440-44f3-ba73-077aee9bde5f",
   "metadata": {},
   "outputs": [],
   "source": [
    "import pandas as pd\n",
    "import numpy as np\n",
    "from sklearn.model_selection import train_test_split\n",
    "from sklearn.metrics import mean_absolute_error\n",
    "from sklearn.preprocessing import StandardScaler\n",
    "from skl2onnx import convert_sklearn\n",
    "from skl2onnx.common.data_types import FloatTensorType\n",
    "import tensorflow as tf\n",
    "from tensorflow import keras\n",
    "import joblib"
   ]
  },
  {
   "cell_type": "code",
   "execution_count": 2,
   "id": "85489a45-d85e-405c-950d-a322cfa41faa",
   "metadata": {},
   "outputs": [
    {
     "name": "stdout",
     "output_type": "stream",
     "text": [
      "                         timestamp  batteryId  ambientTemp  batteryCurrent  \\\n",
      "0 2025-02-12 14:26:34.190000+00:00          1        18.65           78.06   \n",
      "1 2025-02-12 14:26:37.025000+00:00          1        18.36           81.42   \n",
      "2 2025-02-12 14:26:40.020000+00:00          1        18.17           75.76   \n",
      "3 2025-02-12 14:26:43.024000+00:00          1        18.50           72.11   \n",
      "4 2025-02-12 14:26:46.023000+00:00          1        18.12           73.72   \n",
      "\n",
      "   batteryTemp  batteryVoltage  distance     kmh  stateOfCharge  \\\n",
      "0        25.22          396.39      0.20  127.75         0.9991   \n",
      "1        25.33          396.23      0.31  130.46         0.9986   \n",
      "2        25.39          396.49      0.42  125.59         0.9981   \n",
      "3        25.44          396.66      0.52  122.42         0.9977   \n",
      "4        25.47          396.58      0.62  123.87         0.9972   \n",
      "\n",
      "   stateOfHealth  timeBeforeFailure  \n",
      "0        99.9998           0.425357  \n",
      "1        99.9997           0.424569  \n",
      "2        99.9996           0.423737  \n",
      "3        99.9995           0.422903  \n",
      "4        99.9994           0.422070  \n"
     ]
    }
   ],
   "source": [
    "# Load CSV file (exported from InfluxDB)\n",
    "df = pd.read_csv(\"./data/battery_data.csv\")\n",
    "\n",
    "# Convert timestamp to datetime for time-series processing\n",
    "df[\"timestamp\"] = pd.to_datetime(df[\"timestamp\"])\n",
    "\n",
    "# Simulate Time-to-Failure (assuming failure happens at the last recorded timestamp)\n",
    "df[\"timeBeforeFailure\"] = (df[\"timestamp\"].max() - df[\"timestamp\"]).dt.total_seconds() / 3600  # Convert to hours\n",
    "\n",
    "# Display processed data\n",
    "print(df.head())"
   ]
  },
  {
   "cell_type": "code",
   "execution_count": 3,
   "id": "df2628f0-d203-4933-b09a-9105b46d9fd1",
   "metadata": {},
   "outputs": [],
   "source": [
    "# Select Features & Target Variable\n",
    "features = [\"batteryTemp\", \"batteryCurrent\", \"batteryVoltage\", \"stateOfCharge\", \"stateOfHealth\"]\n",
    "target = \"timeBeforeFailure\"\n",
    "\n",
    "X = df[features]\n",
    "y = df[target]"
   ]
  },
  {
   "cell_type": "code",
   "execution_count": null,
   "id": "7f2169a5-3337-4078-a1c4-1f6a0d4888bc",
   "metadata": {},
   "outputs": [],
   "source": [
    "# Train-Test Split\n",
    "X_train, X_test, y_train, y_test = train_test_split(X, y, test_size=0.2, random_state=42)\n",
    "\n",
    "# Normalize data\n",
    "scaler = StandardScaler()\n",
    "X_train_scaled = scaler.fit_transform(X_train)\n",
    "X_test_scaled = scaler.transform(X_test)"
   ]
  },
  {
   "cell_type": "code",
   "execution_count": null,
   "id": "812c7913-513e-403b-a39e-81ac497a4b0e",
   "metadata": {},
   "outputs": [],
   "source": [
    "# Define neural network\n",
    "model = keras.Sequential([\n",
    "    keras.layers.Dense(128, activation=\"relu\", input_shape=(X_train.shape[1],)),\n",
    "    keras.layers.Dense(64, activation=\"relu\"),\n",
    "    keras.layers.Dense(32, activation=\"relu\"),\n",
    "    keras.layers.Dense(1)  # Regresión -> una sola salida\n",
    "])\n",
    "\n",
    "# Compile model\n",
    "model.compile(optimizer=\"adam\", loss=\"mse\", metrics=[\"mae\"])"
   ]
  },
  {
   "cell_type": "code",
   "execution_count": null,
   "id": "771c1b10-df17-459e-9c52-b31b7f94341a",
   "metadata": {},
   "outputs": [],
   "source": [
    "# Train model\n",
    "model.fit(X_train_scaled, y_train, epochs=50, batch_size=32, validation_data=(X_test_scaled, y_test))"
   ]
  },
  {
   "cell_type": "code",
   "execution_count": 5,
   "id": "3f099298-ff9d-4f18-887b-140b467c5563",
   "metadata": {},
   "outputs": [],
   "source": [
    "# Make Predictions\n",
    "y_pred = model.predict(X_test_scaled).flatten()"
   ]
  },
  {
   "cell_type": "code",
   "execution_count": 6,
   "id": "c9cbd817-d46a-4c50-9e01-fae98b75642e",
   "metadata": {},
   "outputs": [
    {
     "name": "stdout",
     "output_type": "stream",
     "text": [
      "Model MAE: 0.02 hours before failure\n"
     ]
    }
   ],
   "source": [
    "# Evaluate Model\n",
    "mae = mean_absolute_error(y_test, y_pred)\n",
    "print(f\"Model MAE: {mae:.2f} hours before failure\")"
   ]
  },
  {
   "cell_type": "code",
   "execution_count": null,
   "id": "75e9ded5-8696-41d4-a6d1-5d2ee9fbda3a",
   "metadata": {},
   "outputs": [],
   "source": [
    "# Save model as keras and scaler for inference\n",
    "model.save(\"models/battery_ttf_model.keras\")\n",
    "joblib.dump(scaler, \"models/scaler.pkl\")\n",
    "print(\"Model saved as TensorFlow format in 'models/battery_ttf_model_tf.keras'\")"
   ]
  },
  {
   "cell_type": "code",
   "execution_count": null,
   "id": "e7bcfe76-1d23-4982-b535-265507ad20af",
   "metadata": {},
   "outputs": [],
   "source": [
    "# Load model\n",
    "model = tf.keras.models.load_model(\"models/battery_ttf_model.keras\")\n",
    "\n",
    "# Export SavedModel\n",
    "tf.saved_model.save(model, \"models/battery_ttf_model\")\n",
    "\n",
    "print(\"Model converted to SavedModel format\")"
   ]
  },
  {
   "cell_type": "code",
   "execution_count": null,
   "id": "adcf96ea-5222-464c-95b1-e85e623d5f0a",
   "metadata": {},
   "outputs": [],
   "source": [
    "!mo --saved_model_dir models/battery_ttf_model --output_dir openvino_model"
   ]
  }
 ],
 "metadata": {
  "kernelspec": {
   "display_name": "Python 3.11",
   "language": "python",
   "name": "python3"
  },
  "language_info": {
   "codemirror_mode": {
    "name": "ipython",
    "version": 3
   },
   "file_extension": ".py",
   "mimetype": "text/x-python",
   "name": "python",
   "nbconvert_exporter": "python",
   "pygments_lexer": "ipython3",
   "version": "3.11.9"
  }
 },
 "nbformat": 4,
 "nbformat_minor": 5
}
