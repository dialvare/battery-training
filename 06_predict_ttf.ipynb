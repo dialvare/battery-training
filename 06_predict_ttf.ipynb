{
 "cells": [
  {
   "cell_type": "code",
   "execution_count": null,
   "id": "9cd7c3d1-7966-4872-8972-5f28618413e6",
   "metadata": {},
   "outputs": [],
   "source": [
    "import numpy as np\n",
    "import joblib"
   ]
  },
  {
   "cell_type": "code",
   "execution_count": null,
   "id": "2b5120ff-e900-411e-843c-cb55fb804ba0",
   "metadata": {},
   "outputs": [],
   "source": [
    "# Load Trained Model\n",
    "model = joblib.load(\"./models/battery_ttf_model.pkl\")\n",
    "\n",
    "# New Battery Data\n",
    "new_data = np.array([[45.0, 500.0, 370.0, 0.4, 98.0]])  # [Temp, Current, Voltage, SoC, SoH]"
   ]
  },
  {
   "cell_type": "code",
   "execution_count": null,
   "id": "b3f0858a-1750-4a07-8456-d49f16b2aca3",
   "metadata": {},
   "outputs": [],
   "source": [
    "# Predict Time Before Failure\n",
    "ttf_prediction = model.predict(new_data)\n",
    "print(f\"Predicted Time Before Failure: {ttf_prediction[0]:.2f} hours\")"
   ]
  },
  {
   "cell_type": "code",
   "execution_count": null,
   "id": "a22899c1-d0a1-4fcc-a939-d20ef2b6c77d",
   "metadata": {},
   "outputs": [],
   "source": []
  }
 ],
 "metadata": {
  "kernelspec": {
   "display_name": "Python 3 (ipykernel)",
   "language": "python",
   "name": "python3"
  },
  "language_info": {
   "codemirror_mode": {
    "name": "ipython",
    "version": 3
   },
   "file_extension": ".py",
   "mimetype": "text/x-python",
   "name": "python",
   "nbconvert_exporter": "python",
   "pygments_lexer": "ipython3",
   "version": "3.13.1"
  }
 },
 "nbformat": 4,
 "nbformat_minor": 5
}
