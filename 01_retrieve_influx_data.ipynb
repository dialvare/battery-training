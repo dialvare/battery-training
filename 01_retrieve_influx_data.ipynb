{
 "cells": [
  {
   "cell_type": "code",
   "execution_count": null,
   "id": "844dcf36-c0c3-48f8-b06f-e86d783b3e9c",
   "metadata": {},
   "outputs": [],
   "source": [
    "pip install pandas influxdb-client"
   ]
  },
  {
   "cell_type": "code",
   "execution_count": 1,
   "id": "4be9801e-8f49-4225-a30b-f56eeb169255",
   "metadata": {},
   "outputs": [],
   "source": [
    "from influxdb_client import InfluxDBClient, Point, WritePrecision\n",
    "from influxdb_client.client.write_api import SYNCHRONOUS\n",
    "import pandas as pd\n",
    "\n",
    "\n",
    "# InfluxDB Connection Details\n",
    "INFLUXDB_URL = \"https://influxdb-battery-demo.apps.ocp4.rhlab.de/\"\n",
    "INFLUXDB_TOKEN = \"admin_token\"\n",
    "INFLUXDB_ORG = \"redhat\"\n",
    "INFLUXDB_BUCKET = \"bms\""
   ]
  },
  {
   "cell_type": "code",
   "execution_count": 2,
   "id": "9578087c-266a-4f20-9a27-fccf6f878153",
   "metadata": {},
   "outputs": [],
   "source": [
    "# Initialize Client\n",
    "client = InfluxDBClient(url=INFLUXDB_URL, token=INFLUXDB_TOKEN, org=INFLUXDB_ORG)\n",
    "write_api = client.write_api(write_options=SYNCHRONOUS)\n",
    "\n",
    "def retrieve_battery_data():\n",
    "    query = f'''\n",
    "    from(bucket: \"{INFLUXDB_BUCKET}\")\n",
    "      |> range(start: -1h)\n",
    "      |> filter(fn: (r) => r[\"_measurement\"] == \"battery_data\")\n",
    "    '''\n",
    "    query_api = client.query_api()\n",
    "    tables = query_api.query(query, org=INFLUXDB_ORG)\n",
    "\n",
    "    # Process Results\n",
    "    data = []\n",
    "    for table in tables:\n",
    "        for record in table.records:\n",
    "            data.append(record.values)\n",
    "\n",
    "    df = pd.DataFrame(data)\n",
    "    print(df)  # Print the retrieved data\n",
    "    return df"
   ]
  },
  {
   "cell_type": "code",
   "execution_count": 3,
   "id": "42eee6b9-6259-4a68-9e9a-54c64b15dc4c",
   "metadata": {},
   "outputs": [
    {
     "name": "stdout",
     "output_type": "stream",
     "text": [
      "       result  table                           _start  \\\n",
      "0     _result      0 2025-02-12 13:52:08.151214+00:00   \n",
      "1     _result      0 2025-02-12 13:52:08.151214+00:00   \n",
      "2     _result      0 2025-02-12 13:52:08.151214+00:00   \n",
      "3     _result      0 2025-02-12 13:52:08.151214+00:00   \n",
      "4     _result      0 2025-02-12 13:52:08.151214+00:00   \n",
      "...       ...    ...                              ...   \n",
      "4043  _result      7 2025-02-12 13:52:08.151214+00:00   \n",
      "4044  _result      7 2025-02-12 13:52:08.151214+00:00   \n",
      "4045  _result      7 2025-02-12 13:52:08.151214+00:00   \n",
      "4046  _result      7 2025-02-12 13:52:08.151214+00:00   \n",
      "4047  _result      7 2025-02-12 13:52:08.151214+00:00   \n",
      "\n",
      "                                _stop                            _time  \\\n",
      "0    2025-02-12 14:52:08.151214+00:00 2025-02-12 14:26:34.190000+00:00   \n",
      "1    2025-02-12 14:52:08.151214+00:00 2025-02-12 14:26:37.025000+00:00   \n",
      "2    2025-02-12 14:52:08.151214+00:00 2025-02-12 14:26:40.020000+00:00   \n",
      "3    2025-02-12 14:52:08.151214+00:00 2025-02-12 14:26:43.024000+00:00   \n",
      "4    2025-02-12 14:52:08.151214+00:00 2025-02-12 14:26:46.023000+00:00   \n",
      "...                               ...                              ...   \n",
      "4043 2025-02-12 14:52:08.151214+00:00 2025-02-12 14:51:53.470000+00:00   \n",
      "4044 2025-02-12 14:52:08.151214+00:00 2025-02-12 14:51:56.469000+00:00   \n",
      "4045 2025-02-12 14:52:08.151214+00:00 2025-02-12 14:51:59.469000+00:00   \n",
      "4046 2025-02-12 14:52:08.151214+00:00 2025-02-12 14:52:02.469000+00:00   \n",
      "4047 2025-02-12 14:52:08.151214+00:00 2025-02-12 14:52:05.475000+00:00   \n",
      "\n",
      "       _value         _field  _measurement batteryId  \n",
      "0     18.6500    ambientTemp  battery_data         1  \n",
      "1     18.3600    ambientTemp  battery_data         1  \n",
      "2     18.1700    ambientTemp  battery_data         1  \n",
      "3     18.5000    ambientTemp  battery_data         1  \n",
      "4     18.1200    ambientTemp  battery_data         1  \n",
      "...       ...            ...           ...       ...  \n",
      "4043  99.9986  stateOfHealth  battery_data         1  \n",
      "4044  99.9985  stateOfHealth  battery_data         1  \n",
      "4045  99.9984  stateOfHealth  battery_data         1  \n",
      "4046  99.9983  stateOfHealth  battery_data         1  \n",
      "4047  99.9982  stateOfHealth  battery_data         1  \n",
      "\n",
      "[4048 rows x 9 columns]\n",
      "Saved raw battery data from InfluxDB.\n"
     ]
    }
   ],
   "source": [
    "df = retrieve_battery_data()\n",
    "\n",
    "# Drop non-numeric columns\n",
    "#df = df.drop(columns=[\"result\", \"table\", \"_start\", \"_stop\", \"_measurement\", \"_time\"])\n",
    "df = df.drop(columns=[\"result\", \"table\", \"_measurement\"])\n",
    "\n",
    "# Save for ML\n",
    "df.to_csv(\"./data/battery_raw.csv\", index=False)\n",
    "print(\"Saved raw battery data from InfluxDB.\")"
   ]
  },
  {
   "cell_type": "code",
   "execution_count": null,
   "id": "470148e5-1f60-4e3d-a7c0-0dbb19b23c2d",
   "metadata": {},
   "outputs": [],
   "source": []
  }
 ],
 "metadata": {
  "kernelspec": {
   "display_name": "Python 3 (ipykernel)",
   "language": "python",
   "name": "python3"
  },
  "language_info": {
   "codemirror_mode": {
    "name": "ipython",
    "version": 3
   },
   "file_extension": ".py",
   "mimetype": "text/x-python",
   "name": "python",
   "nbconvert_exporter": "python",
   "pygments_lexer": "ipython3",
   "version": "3.13.1"
  }
 },
 "nbformat": 4,
 "nbformat_minor": 5
}
