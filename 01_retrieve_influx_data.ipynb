{
 "cells": [
  {
   "cell_type": "code",
   "execution_count": null,
   "id": "844dcf36-c0c3-48f8-b06f-e86d783b3e9c",
   "metadata": {},
   "outputs": [],
   "source": [
    "pip install pandas influxdb-client"
   ]
  },
  {
   "cell_type": "code",
   "execution_count": null,
   "id": "4be9801e-8f49-4225-a30b-f56eeb169255",
   "metadata": {},
   "outputs": [],
   "source": [
    "from influxdb_client import InfluxDBClient, Point, WritePrecision\n",
    "from influxdb_client.client.write_api import SYNCHRONOUS\n",
    "import pandas as pd\n",
    "\n",
    "\n",
    "# InfluxDB Connection Details\n",
    "INFLUXDB_URL = \"https://influxdb-battery-demo.apps.ocp4.rhlab.de/\"\n",
    "INFLUXDB_TOKEN = \"admin_token\"\n",
    "INFLUXDB_ORG = \"redhat\"\n",
    "INFLUXDB_BUCKET = \"bms\""
   ]
  },
  {
   "cell_type": "code",
   "execution_count": null,
   "id": "9578087c-266a-4f20-9a27-fccf6f878153",
   "metadata": {},
   "outputs": [],
   "source": [
    "# Initialize Client\n",
    "client = InfluxDBClient(url=INFLUXDB_URL, token=INFLUXDB_TOKEN, org=INFLUXDB_ORG)\n",
    "write_api = client.write_api(write_options=SYNCHRONOUS)\n",
    "\n",
    "def retrieve_battery_data():\n",
    "    query = f'''\n",
    "    from(bucket: \"{INFLUXDB_BUCKET}\")\n",
    "      |> range(start: -1h)\n",
    "      |> filter(fn: (r) => r[\"_measurement\"] == \"battery_data\")\n",
    "    '''\n",
    "    query_api = client.query_api()\n",
    "    tables = query_api.query(query, org=INFLUXDB_ORG)\n",
    "\n",
    "    # Process Results\n",
    "    data = []\n",
    "    for table in tables:\n",
    "        for record in table.records:\n",
    "            data.append(record.values)\n",
    "\n",
    "    df = pd.DataFrame(data)\n",
    "    print(df)  # Print the retrieved data\n",
    "    return df"
   ]
  },
  {
   "cell_type": "code",
   "execution_count": null,
   "id": "42eee6b9-6259-4a68-9e9a-54c64b15dc4c",
   "metadata": {},
   "outputs": [],
   "source": [
    "df = retrieve_battery_data()\n",
    "\n",
    "# Drop non-numeric columns\n",
    "#df = df.drop(columns=[\"result\", \"table\", \"_start\", \"_stop\", \"_measurement\", \"_time\"])\n",
    "df = df.drop(columns=[\"result\", \"table\", \"_measurement\"])\n",
    "\n",
    "# Save for ML\n",
    "df.to_csv(\"./data/battery_raw.csv\", index=False)\n",
    "print(\"Saved raw battery data from InfluxDB.\")"
   ]
  },
  {
   "cell_type": "code",
   "execution_count": null,
   "id": "470148e5-1f60-4e3d-a7c0-0dbb19b23c2d",
   "metadata": {},
   "outputs": [],
   "source": []
  }
 ],
 "metadata": {
  "kernelspec": {
   "display_name": "Python 3 (ipykernel)",
   "language": "python",
   "name": "python3"
  },
  "language_info": {
   "codemirror_mode": {
    "name": "ipython",
    "version": 3
   },
   "file_extension": ".py",
   "mimetype": "text/x-python",
   "name": "python",
   "nbconvert_exporter": "python",
   "pygments_lexer": "ipython3",
   "version": "3.13.1"
  }
 },
 "nbformat": 4,
 "nbformat_minor": 5
}
