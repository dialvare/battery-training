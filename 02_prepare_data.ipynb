{
 "cells": [
  {
   "cell_type": "code",
   "execution_count": 1,
   "id": "370d5300-b90f-4e5e-9992-a855ad058b71",
   "metadata": {},
   "outputs": [
    {
     "name": "stdout",
     "output_type": "stream",
     "text": [
      "_field                         timestamp  batteryId  ambientTemp  \\\n",
      "0       2025-02-12 14:26:34.190000+00:00          1        18.65   \n",
      "1       2025-02-12 14:26:37.025000+00:00          1        18.36   \n",
      "2       2025-02-12 14:26:40.020000+00:00          1        18.17   \n",
      "3       2025-02-12 14:26:43.024000+00:00          1        18.50   \n",
      "4       2025-02-12 14:26:46.023000+00:00          1        18.12   \n",
      "\n",
      "_field  batteryCurrent  batteryTemp  batteryVoltage  distance     kmh  \\\n",
      "0                78.06        25.22          396.39      0.20  127.75   \n",
      "1                81.42        25.33          396.23      0.31  130.46   \n",
      "2                75.76        25.39          396.49      0.42  125.59   \n",
      "3                72.11        25.44          396.66      0.52  122.42   \n",
      "4                73.72        25.47          396.58      0.62  123.87   \n",
      "\n",
      "_field  stateOfCharge  stateOfHealth  \n",
      "0              0.9991        99.9998  \n",
      "1              0.9986        99.9997  \n",
      "2              0.9981        99.9996  \n",
      "3              0.9977        99.9995  \n",
      "4              0.9972        99.9994  \n"
     ]
    }
   ],
   "source": [
    "import pandas as pd\n",
    "\n",
    "# Load InfluxDB CSV Data\n",
    "df = pd.read_csv(\"./data/battery_raw.csv\")\n",
    "\n",
    "# Pivot the data so that '_field' values become columns\n",
    "df_pivot = df.pivot(index=[\"_time\", \"batteryId\"], columns=\"_field\", values=\"_value\").reset_index()\n",
    "\n",
    "# Rename `_time` to `timestamp` for clarity\n",
    "df_pivot.rename(columns={\"_time\": \"timestamp\"}, inplace=True)\n",
    "\n",
    "# Display the transformed dataframe\n",
    "print(df_pivot.head())\n"
   ]
  },
  {
   "cell_type": "code",
   "execution_count": 2,
   "id": "47a050c4-0f1c-43e4-9431-cc9111557829",
   "metadata": {},
   "outputs": [
    {
     "name": "stdout",
     "output_type": "stream",
     "text": [
      "Saved battery data for ML training.\n"
     ]
    }
   ],
   "source": [
    "df_pivot.to_csv(\"./data/battery_data.csv\", index=False)\n",
    "print(\"Saved battery data for ML training.\")"
   ]
  },
  {
   "cell_type": "code",
   "execution_count": null,
   "id": "7b7e0800-7564-4784-a0e7-4a968e0e5995",
   "metadata": {},
   "outputs": [],
   "source": []
  }
 ],
 "metadata": {
  "kernelspec": {
   "display_name": "Python 3 (ipykernel)",
   "language": "python",
   "name": "python3"
  },
  "language_info": {
   "codemirror_mode": {
    "name": "ipython",
    "version": 3
   },
   "file_extension": ".py",
   "mimetype": "text/x-python",
   "name": "python",
   "nbconvert_exporter": "python",
   "pygments_lexer": "ipython3",
   "version": "3.13.1"
  }
 },
 "nbformat": 4,
 "nbformat_minor": 5
}
