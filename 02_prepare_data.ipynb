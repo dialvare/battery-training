{
 "cells": [
  {
   "cell_type": "code",
   "execution_count": null,
   "id": "370d5300-b90f-4e5e-9992-a855ad058b71",
   "metadata": {},
   "outputs": [],
   "source": [
    "import pandas as pd\n",
    "\n",
    "# Load InfluxDB CSV Data\n",
    "df = pd.read_csv(\"./data/battery_raw.csv\")\n",
    "\n",
    "# Pivot the data so that '_field' values become columns\n",
    "df_pivot = df.pivot(index=[\"_time\", \"batteryId\"], columns=\"_field\", values=\"_value\").reset_index()\n",
    "\n",
    "# Rename `_time` to `timestamp` for clarity\n",
    "df_pivot.rename(columns={\"_time\": \"timestamp\"}, inplace=True)\n",
    "\n",
    "# Display the transformed dataframe\n",
    "print(df_pivot.head())\n"
   ]
  },
  {
   "cell_type": "code",
   "execution_count": null,
   "id": "47a050c4-0f1c-43e4-9431-cc9111557829",
   "metadata": {},
   "outputs": [],
   "source": [
    "df_pivot.to_csv(\"./data/battery_data.csv\", index=False)\n",
    "print(\"Saved battery data for ML training.\")"
   ]
  },
  {
   "cell_type": "code",
   "execution_count": null,
   "id": "7b7e0800-7564-4784-a0e7-4a968e0e5995",
   "metadata": {},
   "outputs": [],
   "source": []
  }
 ],
 "metadata": {
  "kernelspec": {
   "display_name": "Python 3 (ipykernel)",
   "language": "python",
   "name": "python3"
  },
  "language_info": {
   "codemirror_mode": {
    "name": "ipython",
    "version": 3
   },
   "file_extension": ".py",
   "mimetype": "text/x-python",
   "name": "python",
   "nbconvert_exporter": "python",
   "pygments_lexer": "ipython3",
   "version": "3.13.1"
  }
 },
 "nbformat": 4,
 "nbformat_minor": 5
}
